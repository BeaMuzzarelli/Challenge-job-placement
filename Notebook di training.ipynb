{
 "cells": [
  {
   "cell_type": "markdown",
   "metadata": {},
   "source": [
    "Importazione delle librerie utili"
   ]
  },
  {
   "cell_type": "code",
   "execution_count": 1,
   "metadata": {},
   "outputs": [],
   "source": [
    "import sklearn\n",
    "import pandas\n",
    "import numpy\n",
    "import matplotlib\n",
    "import seaborn as sns\n",
    "import matplotlib.pyplot as plt\n",
    "from sklearn.impute import SimpleImputer\n",
    "from sklearn.tree import DecisionTreeClassifier, plot_tree"
   ]
  },
  {
   "cell_type": "markdown",
   "metadata": {},
   "source": [
    "Lettura dei dati"
   ]
  },
  {
   "cell_type": "code",
   "execution_count": 2,
   "metadata": {},
   "outputs": [],
   "source": [
    "#leggo i dati di training\n",
    "f1 = pandas.read_csv('train.csv')\n",
    "#leggo i dati di test\n",
    "f2 = pandas.read_csv('test.csv')"
   ]
  },
  {
   "cell_type": "markdown",
   "metadata": {},
   "source": [
    "Conversione e analisi dei dati sul training set"
   ]
  },
  {
   "cell_type": "code",
   "execution_count": 3,
   "metadata": {},
   "outputs": [],
   "source": [
    "#separo i dati dal \"risultato\" per quanto riguarda i dati di training\n",
    "dati_training_stringa = f1.drop(['status'], axis = 1)\n",
    "target_training = f1['status']\n",
    "\n",
    "#separo i dati dal \"risultato\" per quanto riguarda i dati di test\n",
    "dati_test_stringa = f2.drop(['status'], axis = 1)\n",
    "target_test = f2['status']"
   ]
  },
  {
   "cell_type": "code",
   "execution_count": 4,
   "metadata": {},
   "outputs": [],
   "source": [
    "#Utilizzo gli One Hot Encoder per convertire tutti i dati in float\n",
    "dati_training = dati_training_stringa\n",
    "dati_training = pandas.concat([dati_training, pandas.get_dummies(dati_training['gender'], prefix = 'gender')], axis = 1)\n",
    "dati_training = pandas.concat([dati_training, pandas.get_dummies(dati_training['ssc_b'], prefix = 'ssc_b')], axis = 1)\n",
    "dati_training = pandas.concat([dati_training, pandas.get_dummies(dati_training['hsc_b'], prefix = 'hsc_b')], axis = 1)\n",
    "dati_training = pandas.concat([dati_training, pandas.get_dummies(dati_training['hsc_s'], prefix = 'hsc_s')], axis = 1)\n",
    "dati_training = pandas.concat([dati_training, pandas.get_dummies(dati_training['degree_t'], prefix = 'degree_t')], axis = 1)\n",
    "dati_training = pandas.concat([dati_training, pandas.get_dummies(dati_training['workex'], prefix = 'workex')], axis = 1)\n",
    "dati_training = pandas.concat([dati_training, pandas.get_dummies(dati_training['specialisation'], prefix = 'specialisation')], axis = 1)\n",
    "\n",
    "dati_training.drop(['gender', 'ssc_b', 'hsc_b', 'hsc_s', 'degree_t', 'workex', 'specialisation'], axis = 1, inplace = True)"
   ]
  },
  {
   "cell_type": "code",
   "execution_count": 5,
   "metadata": {},
   "outputs": [],
   "source": [
    "#Elimino le colonne con dipendenze verso altre colonne\n",
    "#Ho deciso di eliminare anche la feature salary perchè contiene più del 30% di valori nulli, per cui uno split su tale feature\n",
    "#portava il modello ad avere un'accuracy piuttosto basta sul test set\n",
    "dati_training = dati_training.drop(['gender_F'], axis = 1)\n",
    "dati_training = dati_training.drop(['ssc_b_Central'], axis = 1)\n",
    "dati_training = dati_training.drop(['hsc_b_Others'], axis = 1)\n",
    "dati_training = dati_training.drop(['workex_No'], axis = 1)\n",
    "dati_training = dati_training.drop(['specialisation_Mkt&Fin'], axis = 1)\n",
    "dati_training = dati_training.drop(['hsc_s_Commerce'], axis = 1)\n",
    "dati_training = dati_training.drop(['degree_t_Comm&Mgmt'], axis = 1)\n",
    "dati_training = dati_training.drop(['salary'], axis = 1)"
   ]
  },
  {
   "cell_type": "code",
   "execution_count": 10,
   "metadata": {},
   "outputs": [],
   "source": [
    "#Stampa del grafico che indica la correlazione tra i dati di training\n",
    "corr_df = dati_training.corr(method='pearson')\n",
    "plt.figure(figsize=(20, 18))\n",
    "sns.heatmap(corr_df, annot=True)\n",
    "plt.show()"
   ]
  },
  {
   "cell_type": "markdown",
   "metadata": {},
   "source": [
    "Conversione dei dati sul test set"
   ]
  },
  {
   "cell_type": "code",
   "execution_count": 7,
   "metadata": {},
   "outputs": [],
   "source": [
    "dati_test = dati_test_stringa\n",
    "dati_test = pandas.concat([dati_test, pandas.get_dummies(dati_test['gender'], prefix = 'gender')], axis = 1)\n",
    "dati_test = pandas.concat([dati_test, pandas.get_dummies(dati_test['ssc_b'], prefix = 'ssc_b')], axis = 1)\n",
    "dati_test = pandas.concat([dati_test, pandas.get_dummies(dati_test['hsc_b'], prefix = 'hsc_b')], axis = 1)\n",
    "dati_test = pandas.concat([dati_test, pandas.get_dummies(dati_test['hsc_s'], prefix = 'hsc_s')], axis = 1)\n",
    "dati_test = pandas.concat([dati_test, pandas.get_dummies(dati_test['degree_t'], prefix = 'degree_t')], axis = 1)\n",
    "dati_test = pandas.concat([dati_test, pandas.get_dummies(dati_test['workex'], prefix = 'workex')], axis = 1)\n",
    "dati_test = pandas.concat([dati_test, pandas.get_dummies(dati_test['specialisation'], prefix = 'specialisation')], axis = 1)\n",
    "\n",
    "dati_test.drop(['gender', 'ssc_b', 'hsc_b', 'hsc_s', 'degree_t', 'workex', 'specialisation'], axis = 1, inplace = True)\n",
    "\n",
    "dati_test = dati_test.drop(['gender_F'], axis = 1)\n",
    "dati_test = dati_test.drop(['ssc_b_Central'], axis = 1)\n",
    "dati_test = dati_test.drop(['hsc_b_Others'], axis = 1)\n",
    "dati_test = dati_test.drop(['workex_No'], axis = 1)\n",
    "dati_test = dati_test.drop(['specialisation_Mkt&Fin'], axis = 1)\n",
    "dati_test = dati_test.drop(['hsc_s_Commerce'], axis = 1)\n",
    "dati_test = dati_test.drop(['degree_t_Comm&Mgmt'], axis = 1)\n",
    "dati_test = dati_test.drop(['salary'], axis = 1)"
   ]
  },
  {
   "cell_type": "markdown",
   "metadata": {},
   "source": [
    "Addestramento modello ed emissione dell'accuracy"
   ]
  },
  {
   "cell_type": "code",
   "execution_count": 15,
   "metadata": {},
   "outputs": [],
   "source": [
    "albero = DecisionTreeClassifier()\n",
    "albero.fit(dati_training, target_training)\n",
    "print(\"Accuracy on training set: {:.3f}\".format(albero.score(dati_training, target_training)))\n",
    "print(\"Accuracy on test set: {:.3f}\".format(albero.score(dati_test, target_test)))"
   ]
  },
  {
   "cell_type": "markdown",
   "metadata": {},
   "source": [
    "Analisi del modello"
   ]
  },
  {
   "cell_type": "code",
   "execution_count": 12,
   "metadata": {},
   "outputs": [],
   "source": [
    "#Stampo l'albero di decisione ottenuto utilizzando plot_tree da sklearn, ma avrei anche potuto utilizzare anche graphviz come visto a lezione\n",
    "fn = ['ssc_p','hsc_p','degree_p','etest_p', 'mba_p', 'gender_M', 'ssc_b_Others', 'hsc_b_Central', 'hsc_s_Arts', 'hsc_s_Science', 'degree_t_Others', 'degree_t_Sci&Tech', 'workex_Yes', 'specialisation_Mkt&HR']\n",
    "cn = ['Not Placed', 'Placed']\n",
    "plt.figure(figsize=(20,20))\n",
    "plot_tree(albero, feature_names = fn, class_names = cn);"
   ]
  },
  {
   "cell_type": "code",
   "execution_count": 13,
   "metadata": {},
   "outputs": [],
   "source": [
    "#Verifico le feature importances\n",
    "print(\"Feature importances:\")\n",
    "print(albero.feature_importances_)"
   ]
  },
  {
   "cell_type": "code",
   "execution_count": 12,
   "metadata": {},
   "outputs": [],
   "source": [
    "#Stampo un grafico che rappresenta le feature importances in modo più esplicito\n",
    "plt.barh(numpy.arange(albero.n_features_), albero.feature_importances_, align='center')\n",
    "plt.yticks(numpy.arange(albero.n_features_), fn)\n",
    "plt.xlabel(\"Feature importance\")\n",
    "plt.ylabel(\"Feature\")\n",
    "plt.ylim(-1, albero.n_features_)\n",
    "\n",
    "#Tale grafico mostra su quali features sono eseguiti gli split, quindi si potrebbero eliminare le altre"
   ]
  },
  {
   "cell_type": "code",
   "execution_count": null,
   "metadata": {},
   "outputs": [],
   "source": []
  }
 ],
 "metadata": {
  "kernelspec": {
   "display_name": "Python 3",
   "language": "python",
   "name": "python3"
  },
  "language_info": {
   "codemirror_mode": {
    "name": "ipython",
    "version": 3
   },
   "file_extension": ".py",
   "mimetype": "text/x-python",
   "name": "python",
   "nbconvert_exporter": "python",
   "pygments_lexer": "ipython3",
   "version": "3.8.5"
  }
 },
 "nbformat": 4,
 "nbformat_minor": 4
}
